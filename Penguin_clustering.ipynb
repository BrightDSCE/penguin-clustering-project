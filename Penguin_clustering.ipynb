{
 "cells": [
  {
   "cell_type": "markdown",
   "id": "589fe37e-e764-4d71-9c3c-93c8b7acee79",
   "metadata": {},
   "source": [
    "![Alt text](https://imgur.com/orZWHly.png=80)\n",
    "source: @allison_horst https://github.com/allisonhorst/penguins"
   ]
  },
  {
   "cell_type": "markdown",
   "id": "d3fb84f2-0eda-4b73-95c0-5364f83e25bf",
   "metadata": {},
   "source": [
    "The goal is to support a team of researchers who have been collecting data about penguins in Antartica! The data is available in csv-Format as `penguins.csv`\n",
    "\n",
    "**Origin of this data** : Data were collected and made available by Dr. Kristen Gorman and the Palmer Station, Antarctica LTER, a member of the Long Term Ecological Research Network.\n",
    "\n",
    "**The dataset consists of 5 columns.**\n",
    "\n",
    "Column | Description\n",
    "--- | ---\n",
    "culmen_length_mm | culmen length (mm)\n",
    "culmen_depth_mm | culmen depth (mm)\n",
    "flipper_length_mm | flipper length (mm)\n",
    "body_mass_g | body mass (g)\n",
    "sex | penguin sex"
   ]
  },
  {
   "cell_type": "markdown",
   "id": "1a7aab7a-b50b-4a8c-b272-77482615136a",
   "metadata": {},
   "source": [
    "Unfortunately, they have not been able to record the species of penguin, but they know that there are **at least three** species that are native to the region: **Adelie**, **Chinstrap**, and **Gentoo**.  The task at hand is to solve the clustering problem by helping them identify groups in the dataset!"
   ]
  },
  {
   "cell_type": "markdown",
   "id": "62208102-d12f-45df-af4e-803e8acdf5f6",
   "metadata": {},
   "source": [
    "**The First step is to import packages**"
   ]
  },
  {
   "cell_type": "code",
   "execution_count": 25,
   "id": "57295d13-5753-4f8d-aa96-cd6815f7cbd9",
   "metadata": {
    "executionCancelledAt": null,
    "executionTime": 35,
    "lastExecutedAt": 1731366675947,
    "lastExecutedByKernel": "4b3423e7-57a3-46e6-b738-7b433b3af414",
    "lastScheduledRunId": null,
    "lastSuccessfullyExecutedCode": "# Import Required Packages\nimport pandas as pd\nimport matplotlib.pyplot as plt\nfrom sklearn.cluster import KMeans\nfrom sklearn.preprocessing import StandardScaler\n\n# Loading and examining the dataset\npenguins_df = pd.read_csv(\"penguins.csv\")\npenguins_df.head()",
    "outputsMetadata": {
     "0": {
      "height": 236,
      "type": "dataFrame"
     }
    }
   },
   "outputs": [],
   "source": [
    "# Import Required Packages\n",
    "import pandas as pd\n",
    "import matplotlib.pyplot as plt\n",
    "from sklearn.cluster import KMeans\n",
    "from sklearn.preprocessing import StandardScaler"
   ]
  },
  {
   "cell_type": "markdown",
   "id": "ad2b66ad-1fdc-4f46-a965-893d3334ebe9",
   "metadata": {},
   "source": [
    "**We load and examine the dataset** "
   ]
  },
  {
   "cell_type": "code",
   "execution_count": 26,
   "id": "abd96443-1757-4d79-bc4d-ccbc0cdff700",
   "metadata": {},
   "outputs": [
    {
     "data": {
      "text/html": [
       "<div>\n",
       "<style scoped>\n",
       "    .dataframe tbody tr th:only-of-type {\n",
       "        vertical-align: middle;\n",
       "    }\n",
       "\n",
       "    .dataframe tbody tr th {\n",
       "        vertical-align: top;\n",
       "    }\n",
       "\n",
       "    .dataframe thead th {\n",
       "        text-align: right;\n",
       "    }\n",
       "</style>\n",
       "<table border=\"1\" class=\"dataframe\">\n",
       "  <thead>\n",
       "    <tr style=\"text-align: right;\">\n",
       "      <th></th>\n",
       "      <th>culmen_length_mm</th>\n",
       "      <th>culmen_depth_mm</th>\n",
       "      <th>flipper_length_mm</th>\n",
       "      <th>body_mass_g</th>\n",
       "      <th>sex</th>\n",
       "    </tr>\n",
       "  </thead>\n",
       "  <tbody>\n",
       "    <tr>\n",
       "      <th>0</th>\n",
       "      <td>39.1</td>\n",
       "      <td>18.7</td>\n",
       "      <td>181.0</td>\n",
       "      <td>3750.0</td>\n",
       "      <td>MALE</td>\n",
       "    </tr>\n",
       "    <tr>\n",
       "      <th>1</th>\n",
       "      <td>39.5</td>\n",
       "      <td>17.4</td>\n",
       "      <td>186.0</td>\n",
       "      <td>3800.0</td>\n",
       "      <td>FEMALE</td>\n",
       "    </tr>\n",
       "    <tr>\n",
       "      <th>2</th>\n",
       "      <td>40.3</td>\n",
       "      <td>18.0</td>\n",
       "      <td>195.0</td>\n",
       "      <td>3250.0</td>\n",
       "      <td>FEMALE</td>\n",
       "    </tr>\n",
       "    <tr>\n",
       "      <th>3</th>\n",
       "      <td>36.7</td>\n",
       "      <td>19.3</td>\n",
       "      <td>193.0</td>\n",
       "      <td>3450.0</td>\n",
       "      <td>FEMALE</td>\n",
       "    </tr>\n",
       "    <tr>\n",
       "      <th>4</th>\n",
       "      <td>39.3</td>\n",
       "      <td>20.6</td>\n",
       "      <td>190.0</td>\n",
       "      <td>3650.0</td>\n",
       "      <td>MALE</td>\n",
       "    </tr>\n",
       "  </tbody>\n",
       "</table>\n",
       "</div>"
      ],
      "text/plain": [
       "   culmen_length_mm  culmen_depth_mm  flipper_length_mm  body_mass_g     sex\n",
       "0              39.1             18.7              181.0       3750.0    MALE\n",
       "1              39.5             17.4              186.0       3800.0  FEMALE\n",
       "2              40.3             18.0              195.0       3250.0  FEMALE\n",
       "3              36.7             19.3              193.0       3450.0  FEMALE\n",
       "4              39.3             20.6              190.0       3650.0    MALE"
      ]
     },
     "execution_count": 26,
     "metadata": {},
     "output_type": "execute_result"
    }
   ],
   "source": [
    "# Loading the dataset\n",
    "penguins_df = pd.read_csv(\"penguins.csv\")\n",
    "penguins_df.head()"
   ]
  },
  {
   "cell_type": "code",
   "execution_count": 27,
   "id": "f5e66f2c-0e96-4adf-952e-b5274b13f930",
   "metadata": {},
   "outputs": [
    {
     "name": "stdout",
     "output_type": "stream",
     "text": [
      "culmen_length_mm     0\n",
      "culmen_depth_mm      0\n",
      "flipper_length_mm    0\n",
      "body_mass_g          0\n",
      "sex                  0\n",
      "dtype: int64\n",
      "<class 'pandas.core.frame.DataFrame'>\n",
      "RangeIndex: 332 entries, 0 to 331\n",
      "Data columns (total 5 columns):\n",
      " #   Column             Non-Null Count  Dtype  \n",
      "---  ------             --------------  -----  \n",
      " 0   culmen_length_mm   332 non-null    float64\n",
      " 1   culmen_depth_mm    332 non-null    float64\n",
      " 2   flipper_length_mm  332 non-null    float64\n",
      " 3   body_mass_g        332 non-null    float64\n",
      " 4   sex                332 non-null    object \n",
      "dtypes: float64(4), object(1)\n",
      "memory usage: 13.1+ KB\n",
      "None\n"
     ]
    }
   ],
   "source": [
    "# Check for missing values in dataset\n",
    "print(penguins_df.isna().sum())\n",
    "\n",
    "# Check datatypes\n",
    "print(penguins_df.info())"
   ]
  },
  {
   "cell_type": "markdown",
   "id": "cb141757-6c10-4e5e-bd11-32fa7cce51c9",
   "metadata": {},
   "source": [
    "We can see from the above result that there are no missing values, so we proceed to preprocess our data"
   ]
  },
  {
   "cell_type": "markdown",
   "id": "0dfea8ed-491a-4550-b97a-4c92ba4c160e",
   "metadata": {},
   "source": [
    "**Preprocessing**"
   ]
  },
  {
   "cell_type": "code",
   "execution_count": 28,
   "id": "81d0de28-5fcd-4514-af1f-e321fd468820",
   "metadata": {
    "executionCancelledAt": null,
    "executionTime": 55,
    "lastExecutedAt": 1731366676002,
    "lastExecutedByKernel": "4b3423e7-57a3-46e6-b738-7b433b3af414",
    "lastScheduledRunId": null,
    "lastSuccessfullyExecutedCode": "# Create dummy varaiables\npenguins_dummies = pd.get_dummies(penguins_df['sex'], drop_first=False)\nprint(penguins_dummies)",
    "outputsMetadata": {
     "0": {
      "height": 311,
      "type": "stream"
     }
    }
   },
   "outputs": [
    {
     "name": "stdout",
     "output_type": "stream",
     "text": [
      "   FEMALE   MALE\n",
      "0   False   True\n",
      "1    True  False\n",
      "2    True  False\n",
      "3    True  False\n",
      "4   False   True\n"
     ]
    }
   ],
   "source": [
    "# Create dummy varaiables for the categorical variable\n",
    "penguins_dummies = pd.get_dummies(penguins_df['sex'], drop_first=False)\n",
    "print(penguins_dummies.head())"
   ]
  },
  {
   "cell_type": "code",
   "execution_count": 29,
   "id": "9837fd26-4e91-4f60-98cf-e94575b9ff46",
   "metadata": {
    "executionCancelledAt": null,
    "executionTime": 55,
    "lastExecutedAt": 1731366676122,
    "lastExecutedByKernel": "4b3423e7-57a3-46e6-b738-7b433b3af414",
    "lastScheduledRunId": null,
    "lastSuccessfullyExecutedCode": "# Drop original categorical column\npenguins_dummies = penguins_dummies.drop(\"sex\", axis=1)"
   },
   "outputs": [
    {
     "name": "stdout",
     "output_type": "stream",
     "text": [
      "   culmen_length_mm  culmen_depth_mm  flipper_length_mm  body_mass_g     sex  \\\n",
      "0              39.1             18.7              181.0       3750.0    MALE   \n",
      "1              39.5             17.4              186.0       3800.0  FEMALE   \n",
      "2              40.3             18.0              195.0       3250.0  FEMALE   \n",
      "3              36.7             19.3              193.0       3450.0  FEMALE   \n",
      "4              39.3             20.6              190.0       3650.0    MALE   \n",
      "\n",
      "   FEMALE   MALE  \n",
      "0   False   True  \n",
      "1    True  False  \n",
      "2    True  False  \n",
      "3    True  False  \n",
      "4   False   True  \n"
     ]
    }
   ],
   "source": [
    "# Concatenate DataFrames and Display the First Few Rows\n",
    "penguins_dummies = pd.concat([penguins_df, penguins_dummies], axis=1)\n",
    "print(penguins_dummies.head())"
   ]
  },
  {
   "cell_type": "code",
   "execution_count": 30,
   "id": "f65514ad-2c02-49b7-ac7c-feac90dc5ff3",
   "metadata": {},
   "outputs": [],
   "source": [
    "# Drop original categorical column\n",
    "penguins_dummies = penguins_dummies.drop(\"sex\", axis=1)\n",
    "\n",
    "# Convert specific dummy-encoded columns to integers\n",
    "dummy_columns = ['FEMALE', 'MALE']\n",
    "penguins_dummies[dummy_columns] = penguins_dummies[dummy_columns].astype(int)\n",
    "\n",
    "# Change all column names to lowercase\n",
    "penguins_dummies.columns = penguins_dummies.columns.str.lower()"
   ]
  },
  {
   "cell_type": "code",
   "execution_count": 32,
   "id": "6cf4d440-7156-4373-b2ae-483bb509ad90",
   "metadata": {},
   "outputs": [
    {
     "data": {
      "text/html": [
       "<div>\n",
       "<style scoped>\n",
       "    .dataframe tbody tr th:only-of-type {\n",
       "        vertical-align: middle;\n",
       "    }\n",
       "\n",
       "    .dataframe tbody tr th {\n",
       "        vertical-align: top;\n",
       "    }\n",
       "\n",
       "    .dataframe thead th {\n",
       "        text-align: right;\n",
       "    }\n",
       "</style>\n",
       "<table border=\"1\" class=\"dataframe\">\n",
       "  <thead>\n",
       "    <tr style=\"text-align: right;\">\n",
       "      <th></th>\n",
       "      <th>culmen_length_mm</th>\n",
       "      <th>culmen_depth_mm</th>\n",
       "      <th>flipper_length_mm</th>\n",
       "      <th>body_mass_g</th>\n",
       "      <th>female</th>\n",
       "      <th>male</th>\n",
       "    </tr>\n",
       "  </thead>\n",
       "  <tbody>\n",
       "    <tr>\n",
       "      <th>0</th>\n",
       "      <td>39.1</td>\n",
       "      <td>18.7</td>\n",
       "      <td>181.0</td>\n",
       "      <td>3750.0</td>\n",
       "      <td>0</td>\n",
       "      <td>1</td>\n",
       "    </tr>\n",
       "    <tr>\n",
       "      <th>1</th>\n",
       "      <td>39.5</td>\n",
       "      <td>17.4</td>\n",
       "      <td>186.0</td>\n",
       "      <td>3800.0</td>\n",
       "      <td>1</td>\n",
       "      <td>0</td>\n",
       "    </tr>\n",
       "    <tr>\n",
       "      <th>2</th>\n",
       "      <td>40.3</td>\n",
       "      <td>18.0</td>\n",
       "      <td>195.0</td>\n",
       "      <td>3250.0</td>\n",
       "      <td>1</td>\n",
       "      <td>0</td>\n",
       "    </tr>\n",
       "    <tr>\n",
       "      <th>3</th>\n",
       "      <td>36.7</td>\n",
       "      <td>19.3</td>\n",
       "      <td>193.0</td>\n",
       "      <td>3450.0</td>\n",
       "      <td>1</td>\n",
       "      <td>0</td>\n",
       "    </tr>\n",
       "    <tr>\n",
       "      <th>4</th>\n",
       "      <td>39.3</td>\n",
       "      <td>20.6</td>\n",
       "      <td>190.0</td>\n",
       "      <td>3650.0</td>\n",
       "      <td>0</td>\n",
       "      <td>1</td>\n",
       "    </tr>\n",
       "  </tbody>\n",
       "</table>\n",
       "</div>"
      ],
      "text/plain": [
       "   culmen_length_mm  culmen_depth_mm  flipper_length_mm  body_mass_g  female  \\\n",
       "0              39.1             18.7              181.0       3750.0       0   \n",
       "1              39.5             17.4              186.0       3800.0       1   \n",
       "2              40.3             18.0              195.0       3250.0       1   \n",
       "3              36.7             19.3              193.0       3450.0       1   \n",
       "4              39.3             20.6              190.0       3650.0       0   \n",
       "\n",
       "   male  \n",
       "0     1  \n",
       "1     0  \n",
       "2     0  \n",
       "3     0  \n",
       "4     1  "
      ]
     },
     "execution_count": 32,
     "metadata": {},
     "output_type": "execute_result"
    }
   ],
   "source": [
    "# View first five rows of dataset\n",
    "penguins_dummies.head()"
   ]
  },
  {
   "cell_type": "markdown",
   "id": "1daf7c3c-4e13-4226-8f58-338845308fc8",
   "metadata": {},
   "source": [
    "**Next we scale the dataset for uniformity**"
   ]
  },
  {
   "cell_type": "code",
   "execution_count": 33,
   "id": "2bde2a94-0643-456d-b3f0-24450081e3dc",
   "metadata": {
    "executionCancelledAt": null,
    "executionTime": 56,
    "lastExecutedAt": 1731366676178,
    "lastExecutedByKernel": "4b3423e7-57a3-46e6-b738-7b433b3af414",
    "lastScheduledRunId": null,
    "lastSuccessfullyExecutedCode": "# Scale the dataset\nscaler = StandardScaler()\npenguins_scaled = scaler.fit_transform(penguins_dummies)"
   },
   "outputs": [],
   "source": [
    "# Scale the dataset\n",
    "scaler = StandardScaler()\n",
    "penguins_scaled = scaler.fit_transform(penguins_dummies)"
   ]
  },
  {
   "cell_type": "markdown",
   "id": "df2bb46e-1a2d-4662-b407-650b41698cd1",
   "metadata": {},
   "source": [
    "**Perform Elbow analysis to determine the optimal number of clusters**"
   ]
  },
  {
   "cell_type": "code",
   "execution_count": 39,
   "id": "7a635270-2339-4b48-acf0-839a06b12c70",
   "metadata": {},
   "outputs": [],
   "source": [
    "import warnings\n",
    "\n",
    "# Suppress specific warning related to KMeans memory leak\n",
    "warnings.filterwarnings(\"ignore\", message=\"KMeans is known to have a memory leak on Windows with MKL\")"
   ]
  },
  {
   "cell_type": "code",
   "execution_count": 40,
   "id": "80901c40-894e-4493-9eb0-1fc1234a416d",
   "metadata": {
    "executionCancelledAt": null,
    "executionTime": 438,
    "lastExecutedAt": 1731366676670,
    "lastExecutedByKernel": "4b3423e7-57a3-46e6-b738-7b433b3af414",
    "lastScheduledRunId": null,
    "lastSuccessfullyExecutedCode": "# Create an empty list to store the inertia for a range of KMeans models\n# with varying numbers of clusters\ninertia_values = []\n\n# Perform Elbow analysis using a for loop\nfor k in range(1, 10):\n    kmeans = KMeans(n_clusters=k, random_state=42)\n    kmeans.fit(penguins_scaled)\n    inertia_values.append(kmeans.inertia_)\n    \n# Visualize the list of inertia values\nplt.plot(range(1, 10), inertia_values, marker=\"o\")\nplt.xlabel('Number of Clusters')\nplt.ylabel('Inertia')\nplt.title('Elbow Method For Optimal k')\nplt.show()"
   },
   "outputs": [
    {
     "data": {
      "image/png": "[encoded data removed]",
      "text/plain": [
       "<Figure size 640x480 with 1 Axes>"
      ]
     },
     "metadata": {},
     "output_type": "display_data"
    }
   ],
   "source": [
    "# Create an empty list to store the inertia for a range of KMeans models\n",
    "# with varying numbers of clusters\n",
    "inertia_values = []\n",
    "\n",
    "# Perform Elbow analysis using a for loop\n",
    "for k in range(1, 10):\n",
    "    kmeans = KMeans(n_clusters=k, random_state=42)\n",
    "    kmeans.fit(penguins_scaled)\n",
    "    inertia_values.append(kmeans.inertia_)\n",
    "    \n",
    "# Visualize the list of inertia values\n",
    "plt.plot(range(1, 10), inertia_values, marker=\"o\")\n",
    "plt.xlabel('Number of Clusters')\n",
    "plt.ylabel('Inertia')\n",
    "plt.title('Elbow Method For Optimal k')\n",
    "plt.show()"
   ]
  },
  {
   "cell_type": "markdown",
   "id": "2ebc8b93-b6fe-49fd-8324-25a24db623cf",
   "metadata": {},
   "source": [
    "Inertia is a measure of how well the data points are grouped within a cluster. It is calculated as the sum of squared distances from each data point to the center (centroid) of its assigned cluster. The lower the inertia, the better the clustering.\n",
    "\n",
    "The Elbow Method helps figure out the best number of clusters by finding where the inertia reduction slows down as we increase the number of clusters.\n",
    "\n",
    "We can see from the graph above that the inertia slows drastically at cluster 4."
   ]
  },
  {
   "cell_type": "markdown",
   "id": "6926a9ee-e286-4584-8871-f7f76e70a447",
   "metadata": {},
   "source": [
    "**Run the K-means clustering algorithm**"
   ]
  },
  {
   "cell_type": "code",
   "execution_count": 41,
   "id": "6cce44ce-2136-4337-a3aa-36179bbae840",
   "metadata": {
    "executionCancelledAt": null,
    "executionTime": 265,
    "lastExecutedAt": 1731366676935,
    "lastExecutedByKernel": "4b3423e7-57a3-46e6-b738-7b433b3af414",
    "lastScheduledRunId": null,
    "lastSuccessfullyExecutedCode": "# Step 5 - Run the k-means clustering algorithm\n# with the optimal number of clusters \nn_clusters = 4\n\n# Ensure all column names are strings\n# Assuming penguins_scaled is a DataFrame, if it's an ndarray, this step is not needed\nif isinstance(penguins_scaled, pd.DataFrame):\n    penguins_scaled.columns = penguins_scaled.columns.astype(str)\n\nkmeans = KMeans(n_clusters=n_clusters, random_state=42).fit(penguins_scaled)\npenguins_df['label'] = kmeans.labels_\n\n# and visualize the clusters (here for the 'culmen_length_mm' column)\nplt.scatter(penguins_df['label'], penguins_df['culmen_length_mm'], c=kmeans.labels_, cmap='viridis')\nplt.xlabel('Cluster')\nplt.ylabel('culmen_length_mm')\nplt.xticks(range(int(penguins_df['label'].min()), int(penguins_df['label'].max()) + 1))\nplt.title(f'K-means Clustering (K={n_clusters})')\nplt.show()"
   },
   "outputs": [
    {
     "data": {
      "image/png": "[encoded data removed]",
      "text/plain": [
       "<Figure size 640x480 with 1 Axes>"
      ]
     },
     "metadata": {},
     "output_type": "display_data"
    }
   ],
   "source": [
    "# with the optimal number of clusters \n",
    "n_clusters = 4\n",
    "\n",
    "# Ensure all column names are strings\n",
    "# Assuming penguins_scaled is a DataFrame, if it's an ndarray, this step is not needed\n",
    "if isinstance(penguins_scaled, pd.DataFrame):\n",
    "    penguins_scaled.columns = penguins_scaled.columns.astype(str)\n",
    "\n",
    "kmeans = KMeans(n_clusters=n_clusters, random_state=42).fit(penguins_scaled)\n",
    "penguins_df['label'] = kmeans.labels_\n",
    "\n",
    "# and visualize the clusters (here for the 'culmen_length_mm' column)\n",
    "plt.scatter(penguins_df['label'], penguins_df['culmen_length_mm'], c=kmeans.labels_, cmap='viridis')\n",
    "plt.xlabel('Cluster')\n",
    "plt.ylabel('culmen_length_mm')\n",
    "plt.xticks(range(int(penguins_df['label'].min()), int(penguins_df['label'].max()) + 1))\n",
    "plt.title(f'K-means Clustering (K={n_clusters})')\n",
    "plt.show()"
   ]
  },
  {
   "cell_type": "markdown",
   "id": "1159c843-c2f3-4837-aa86-1333cedceccd",
   "metadata": {},
   "source": [
    "**Create final statistical DataFrame**"
   ]
  },
  {
   "cell_type": "code",
   "execution_count": 44,
   "id": "30e84ae6-a9ab-4cc8-a9bb-1b78b93a7051",
   "metadata": {
    "executionCancelledAt": null,
    "executionTime": 63,
    "lastExecutedAt": 1731366676998,
    "lastExecutedByKernel": "4b3423e7-57a3-46e6-b738-7b433b3af414",
    "lastScheduledRunId": null,
    "lastSuccessfullyExecutedCode": "# Step - create final `stat_penguins` DataFrame\nnumeric_columns = ['culmen_length_mm', 'culmen_depth_mm', 'flipper_length_mm','label']\nstat_penguins = penguins_df[numeric_columns].groupby('label').mean()\nstat_penguins",
    "outputsMetadata": {
     "0": {
      "height": 208,
      "type": "dataFrame"
     }
    }
   },
   "outputs": [
    {
     "data": {
      "text/html": [
       "<div>\n",
       "<style scoped>\n",
       "    .dataframe tbody tr th:only-of-type {\n",
       "        vertical-align: middle;\n",
       "    }\n",
       "\n",
       "    .dataframe tbody tr th {\n",
       "        vertical-align: top;\n",
       "    }\n",
       "\n",
       "    .dataframe thead th {\n",
       "        text-align: right;\n",
       "    }\n",
       "</style>\n",
       "<table border=\"1\" class=\"dataframe\">\n",
       "  <thead>\n",
       "    <tr style=\"text-align: right;\">\n",
       "      <th></th>\n",
       "      <th>culmen_length_mm</th>\n",
       "      <th>culmen_depth_mm</th>\n",
       "      <th>flipper_length_mm</th>\n",
       "    </tr>\n",
       "    <tr>\n",
       "      <th>label</th>\n",
       "      <th></th>\n",
       "      <th></th>\n",
       "      <th></th>\n",
       "    </tr>\n",
       "  </thead>\n",
       "  <tbody>\n",
       "    <tr>\n",
       "      <th>0</th>\n",
       "      <td>43.878302</td>\n",
       "      <td>19.111321</td>\n",
       "      <td>194.764151</td>\n",
       "    </tr>\n",
       "    <tr>\n",
       "      <th>1</th>\n",
       "      <td>45.563793</td>\n",
       "      <td>14.237931</td>\n",
       "      <td>212.706897</td>\n",
       "    </tr>\n",
       "    <tr>\n",
       "      <th>2</th>\n",
       "      <td>40.217757</td>\n",
       "      <td>17.611215</td>\n",
       "      <td>189.046729</td>\n",
       "    </tr>\n",
       "    <tr>\n",
       "      <th>3</th>\n",
       "      <td>49.473770</td>\n",
       "      <td>15.718033</td>\n",
       "      <td>221.540984</td>\n",
       "    </tr>\n",
       "  </tbody>\n",
       "</table>\n",
       "</div>"
      ],
      "text/plain": [
       "       culmen_length_mm  culmen_depth_mm  flipper_length_mm\n",
       "label                                                      \n",
       "0             43.878302        19.111321         194.764151\n",
       "1             45.563793        14.237931         212.706897\n",
       "2             40.217757        17.611215         189.046729\n",
       "3             49.473770        15.718033         221.540984"
      ]
     },
     "execution_count": 44,
     "metadata": {},
     "output_type": "execute_result"
    }
   ],
   "source": [
    "# Step - create final `stat_penguins` DataFrame\n",
    "numeric_columns = ['culmen_length_mm', 'culmen_depth_mm', 'flipper_length_mm','label']\n",
    "stat_penguins = penguins_df[numeric_columns].groupby('label').mean()\n",
    "stat_penguins"
   ]
  }
 ],
 "metadata": {
  "colab": {
   "name": "Welcome to DataCamp Workspaces.ipynb",
   "provenance": []
  },
  "editor": "DataLab",
  "kernelspec": {
   "display_name": "Python 3 (ipykernel)",
   "language": "python",
   "name": "python3"
  },
  "language_info": {
   "codemirror_mode": {
    "name": "ipython",
    "version": 3
   },
   "file_extension": ".py",
   "mimetype": "text/x-python",
   "name": "python",
   "nbconvert_exporter": "python",
   "pygments_lexer": "ipython3",
   "version": "3.12.7"
  }
 },
 "nbformat": 4,
 "nbformat_minor": 5
}
